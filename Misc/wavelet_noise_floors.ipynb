{
 "cells": [
  {
   "cell_type": "code",
   "execution_count": null,
   "metadata": {},
   "outputs": [],
   "source": [
    "import numpy as np\n",
    "import matplotlib.pyplot as plt\n",
    "import pywt\n",
    "import os\n",
    "import pandas as pd\n",
    "import statsmodels.api as sm\n",
    "\n",
    "# Generate an example spectrum (signal + noise)\n",
    "freqs = np.linspace(0, 500, 1000)  # Frequency range\n",
    "signal = np.exp(-((freqs - 200) ** 2) / (2 * 30 ** 2))  # Gaussian peak (signal)\n",
    "noise = np.random.normal(0, 0.02, size=freqs.shape)  # Additive white noise\n",
    "spectrum = signal + noise + 0.05  # Combine signal, noise, and a baseline floor\n",
    "\n",
    "# First navigate to our directory\n",
    "directory_path = os.path.join(\"Data\", \"processed_df.parquet\")\n",
    "# Load the dataframe\n",
    "df = pd.read_parquet(directory_path)\n",
    "freqs = df.iloc[0]['freqs']\n",
    "spectrum = df.iloc[0]['spectrum']\n",
    "spectrum = np.array(spectrum, copy=True)\n",
    "\n",
    "# Plot the original spectrum\n",
    "# plt.figure(figsize=(12, 6))\n",
    "# plt.plot(freqs, spectrum, label=\"Original Spectrum\", alpha=0.7)\n",
    "# plt.xlabel(\"Frequency (Hz)\")\n",
    "# plt.ylabel(\"Magnitude\")\n",
    "# plt.title(\"Original Spectrum\")\n",
    "# plt.legend()\n",
    "# plt.show()\n",
    "\n",
    "lowess = sm.nonparametric.lowess\n",
    "sigma= 0.08  # local-ness factor {0.1-0.2}\n",
    "fit= lowess(spectrum,freqs,frac=sigma, return_sorted=False)\n",
    "\n",
    "# Perform wavelet decomposition\n",
    "wavelet = 'sym5'  # Daubechies wavelet\n",
    "level = pywt.dwt_max_level(len(spectrum), wavelet)  # Maximum decomposition level\n",
    "coeffs = pywt.wavedec(spectrum, wavelet, level=level)\n",
    "\n",
    "# Apply soft thresholding to detail coefficients (high frequencies)\n",
    "sigma = np.std(coeffs[-1])  # Estimate noise standard deviation from the last detail level\n",
    "threshold = sigma * np.sqrt(2 * np.log(len(spectrum)))  # Universal threshold\n",
    "denoised_coeffs = [coeffs[0]] + [pywt.threshold(c, threshold, mode='soft') for c in coeffs[1:]]\n",
    "\n",
    "# Reconstruct the noise floor from approximation coefficients\n",
    "noise_floor = pywt.waverec([denoised_coeffs[0]] + [np.zeros_like(c) for c in denoised_coeffs[1:]], wavelet)\n",
    "\n",
    "# Plot the spectrum and the estimated noise floor\n",
    "plt.figure(figsize=(12, 6))\n",
    "plt.plot(freqs, spectrum, label=\"Original Spectrum\", alpha=0.7)\n",
    "plt.plot(freqs, noise_floor[:len(freqs)], label=\"Wavelet Noise Floor\", linestyle='--', linewidth=2)\n",
    "plt.plot(freqs, fit[:len(freqs)], label=\"Lowess Noise Floor\", linestyle='--', linewidth=2)\n",
    "plt.xlabel(\"Frequency (Hz)\")\n",
    "plt.ylabel(\"Magnitude\")\n",
    "plt.title(\"Wavelet-Based Noise Floor Estimation\")\n",
    "plt.legend()\n",
    "plt.show()\n"
   ]
  },
  {
   "cell_type": "code",
   "execution_count": null,
   "metadata": {},
   "outputs": [],
   "source": []
  }
 ],
 "metadata": {
  "kernelspec": {
   "display_name": "base",
   "language": "python",
   "name": "python3"
  },
  "language_info": {
   "codemirror_mode": {
    "name": "ipython",
    "version": 3
   },
   "file_extension": ".py",
   "mimetype": "text/x-python",
   "name": "python",
   "nbconvert_exporter": "python",
   "pygments_lexer": "ipython3",
   "version": "3.10.15"
  }
 },
 "nbformat": 4,
 "nbformat_minor": 2
}
