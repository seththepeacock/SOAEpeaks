{
 "cells": [
  {
   "cell_type": "code",
   "execution_count": null,
   "id": "efb25925-e254-43e8-ba9e-6108417d6300",
   "metadata": {},
   "outputs": [],
   "source": [
    "# Define a weighted loss function based on the variable choice\n",
    "\n",
    "# Loss weights\n",
    "weighted_loss_type = 'exponential'  # Options: 'exponential' or 'square'\n",
    "weight_min = 300                  # Minimal freq_bin index to weight. Avoids weighting the near zero \"peak\".\n",
    "\n",
    "def weighted_mse(y_true, y_pred):\n",
    "    # Calculate weights based on the weighted_loss_type\n",
    "    if weighted_loss_type == 'exponential':\n",
    "        weights = tf.exp(y_true)\n",
    "    elif weighted_loss_type == 'square':\n",
    "        weights = tf.square(y_true)\n",
    "    else:\n",
    "        raise ValueError(\"Invalid weighted_loss_type. Choose 'exponential' or 'square'.\")\n",
    "\n",
    "    # Dynamically compute the shape to handle variable batch sizes\n",
    "    batch_size = tf.shape(weights)[0]\n",
    "    time_steps = tf.shape(weights)[1]\n",
    "\n",
    "    # Create a mask for indices below the weight_min\n",
    "    mask = tf.range(time_steps) < weight_min  # Shape: (time_steps,)\n",
    "    mask = tf.expand_dims(mask, axis=0)       # Shape: (1, time_steps)\n",
    "    mask = tf.expand_dims(mask, axis=-1)      # Shape: (1, time_steps, 1)\n",
    "    mask = tf.tile(mask, [batch_size, 1, 1])  # Shape: (batch_size, time_steps, 1)\n",
    "\n",
    "    # Replace weights below the cutoff with the minimum weight value\n",
    "    min_weight = tf.reduce_min(weights[:, weight_min:, :], axis=1, keepdims=True)\n",
    "    weights = tf.where(mask, tf.broadcast_to(min_weight, tf.shape(weights)), weights)\n",
    "\n",
    "    # Compute the weighted mean squared error\n",
    "    loss = tf.reduce_mean(weights * tf.square(y_true - y_pred))\n",
    "    return loss\n"
   ]
  }
 ],
 "metadata": {
  "kernelspec": {
   "display_name": "Python 3 (ipykernel)",
   "language": "python",
   "name": "python3"
  },
  "language_info": {
   "codemirror_mode": {
    "name": "ipython",
    "version": 3
   },
   "file_extension": ".py",
   "mimetype": "text/x-python",
   "name": "python",
   "nbconvert_exporter": "python",
   "pygments_lexer": "ipython3",
   "version": "3.9.12"
  }
 },
 "nbformat": 4,
 "nbformat_minor": 5
}
