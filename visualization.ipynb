{
 "cells": [
  {
   "cell_type": "code",
   "execution_count": null,
   "metadata": {},
   "outputs": [],
   "source": [
    "%load_ext autoreload\n",
    "%autoreload 2\n",
    "import importlib\n",
    "import numpy as np\n",
    "from plots import *\n",
    "from processing_funcs import *\n",
    "import matplotlib.pyplot as plt\n",
    "import pandas as pd\n",
    "from pathlib import Path\n",
    "from scipy import stats"
   ]
  },
  {
   "cell_type": "code",
   "execution_count": null,
   "metadata": {},
   "outputs": [],
   "source": [
    "def plot_spec(df, species=None, type='supp', scaled='no', num=0, filepath=None, save=False):\n",
    "    if type=='supp':\n",
    "        df = df[df['sr']==0]\n",
    "    else:\n",
    "        df = df[df['sr']!=0]\n",
    "        \n",
    "    if filepath is None and species is not None:\n",
    "        row = df[(df['species'] == species)].iloc[num]\n",
    "    elif filepath is not None:\n",
    "        row = df.loc[df['filepath'] == filepath].iloc[0]\n",
    "    elif filepath is None and species is None:\n",
    "        row = df.iloc[num]\n",
    "        \n",
    "    if row['freqs'] is None or len(row['freqs']) == 0:\n",
    "        freqs = rfftfreq(32768, 1 / row['sr'])\n",
    "    else:\n",
    "        freqs = row['freqs']\n",
    "        \n",
    "    if scaled and 'scaled spectrum' in df:\n",
    "        spectrum = row['scaled spectrum']\n",
    "    else:\n",
    "        spectrum = row['spectrum']\n",
    "\n",
    "    print(spectrum[500])\n",
    "    path = Path(row['filepath'])\n",
    "    species = row['species']\n",
    "    plt.figure(num)\n",
    "    plt.plot(freqs/1000, spectrum)\n",
    "    plt.xlabel(\"Frequency (kHz)\")\n",
    "    plt.ylabel(\"dB SPL\")\n",
    "    plt.ylim(0, 10)\n",
    "    title = f\"{species} SOAE Spectrum ({path.name})\"\n",
    "    plt.title(title)\n",
    "    if save:\n",
    "        plt.savefig(path.name + \".png\")\n",
    "    plt.show()"
   ]
  },
  {
   "cell_type": "code",
   "execution_count": null,
   "metadata": {},
   "outputs": [],
   "source": [
    "# Load processed dataframe\n",
    "dfp = pd.read_parquet(\"norm_processed_df.parquet\")\n",
    "plot_spec(dfp, type='wf', scaled='no', species='Human', num=8)\n",
    "# plot_spec(dfp, type='supp', scaled='no', species='Human', num=1)\n",
    "plot_spec(dfp1, type='supp', scaled='no', filepath=r'York Data\\05.01.14\\CPBlearSOAEsupp1.txt',species='Human', num=0)\n",
    "dfp1 = pd.read_parquet(\"1_norm_processed_df.parquet\")\n",
    "plot_spec(dfp1, type='wf', scaled='no', species='Human', num=8)"
   ]
  },
  {
   "cell_type": "code",
   "execution_count": null,
   "metadata": {},
   "outputs": [],
   "source": [
    "# Get number of each species and plot in a bar chart\n",
    "species_counts = df[df['species']!=\"\"]['species'].value_counts()\n",
    "\n",
    "# Create the bar chart\n",
    "plt.figure(figsize=(10, 6))\n",
    "plt.bar(species_counts.index, species_counts.values)\n",
    "\n",
    "# Add labels and title\n",
    "plt.xlabel('Species')\n",
    "plt.ylabel('Count')\n",
    "plt.title('Species Distribution')\n",
    "plt.xticks(rotation=45)  # Rotate labels for better readability if needed\n",
    "plt.tight_layout()  # Adjust layout to prevent label cutoff\n",
    "# plt.savefig('species_distribution.png', dpi=300, bbox_inches='tight')  # Adjust dpi and bounding box\n",
    "plt.show()\n",
    "\n"
   ]
  },
  {
   "cell_type": "code",
   "execution_count": null,
   "metadata": {},
   "outputs": [],
   "source": [
    "# Get how many are pre-processed\n",
    "num_preprocessed = (df['sr'] == 0).sum()\n",
    "num_wf = len(df) - num_preprocessed\n",
    "\n",
    "# Create the pie chart\n",
    "plt.figure(figsize=(8, 8))\n",
    "plt.pie([num_preprocessed, num_wf], labels=['Pre-processed Spectra', 'Raw Waveforms'], autopct='%1.1f%%')\n",
    "plt.title('Distribution of Pre-processed Spectra and Raw Waveforms')\n",
    "# plt.savefig('pp vs wf.png', dpi=300, bbox_inches='tight')  # Adjust dpi and bounding box\n",
    "plt.show()"
   ]
  },
  {
   "cell_type": "code",
   "execution_count": null,
   "metadata": {},
   "outputs": [],
   "source": [
    "# Out of the preprocessed ones, get a histogram of the spacing between frequency bins\n",
    "freq_diffs = df[df['sr'] == 0]['freqs'].apply(lambda x: x[100] - x[99])\n",
    "freq_diffs.hist()\n",
    "plt.title('Histogram of Freq Diffs for Pre-processed Spectra')\n",
    "plt.xlabel('Freq Diff')\n",
    "plt.ylabel('Frequency')\n",
    "plt.show()"
   ]
  },
  {
   "cell_type": "code",
   "execution_count": null,
   "metadata": {},
   "outputs": [],
   "source": [
    "# Out of the preprocessed ones, get a histogram of the maximum frequency bin value\n",
    "max_freqs = df[df['sr'] == 0]['freqs'].apply(lambda x: x[-1])\n",
    "max_freqs.hist()\n",
    "plt.title('Histogram of Final Frequency Bin for Pre-processed Spectra')\n",
    "plt.xlabel('Max Freq')\n",
    "plt.ylabel('Frequency')\n",
    "plt.show()"
   ]
  },
  {
   "cell_type": "code",
   "execution_count": null,
   "metadata": {},
   "outputs": [],
   "source": [
    "# Calculate max frequencies\n",
    "df_supp = df[df['sr'] == 0]\n",
    "max_freqs = df_supp['freqs'].apply(lambda x: x[-1])\n",
    "\n",
    "# Add a new column to classify max frequencies into categories\n",
    "df_supp['max_freq_category'] = max_freqs.apply(lambda x: '< 20000' if x < 20000 else '> 20000')\n",
    "\n",
    "# Filter data for species with non-empty values\n",
    "species_data = df_supp[df_supp['species'] != \"\"]\n",
    "\n",
    "# Group data by species and max_freq_category, and count occurrences\n",
    "grouped = species_data.groupby(['species', 'max_freq_category']).size().unstack(fill_value=0)\n",
    "\n",
    "# Plot the double bar graph\n",
    "plt.figure(figsize=(12, 6))\n",
    "grouped.plot(kind='bar', width=0.8, figsize=(12, 6))\n",
    "\n",
    "# Add labels and title\n",
    "plt.xlabel('Species')\n",
    "plt.ylabel('Count')\n",
    "plt.title('Species Distribution and Max Frequency (Pre-processed)')\n",
    "plt.xticks(rotation=45)  # Rotate x-axis labels for better readability\n",
    "plt.tight_layout()\n",
    "\n",
    "# Save and show the plot\n",
    "# plt.savefig('species_max_freq_double_bar.png', dpi=300, bbox_inches='tight')\n",
    "plt.show()\n"
   ]
  },
  {
   "cell_type": "code",
   "execution_count": null,
   "metadata": {},
   "outputs": [],
   "source": [
    "\n",
    "min_freq_length = df['freqs'].apply(len).min()\n",
    "rows_with_min_freq = df['freqs'].apply(len).eq(min_freq_length).sum()\n",
    "print(f\"{rows_with_min_freq}/ {len(df)}\")\n"
   ]
  },
  {
   "cell_type": "code",
   "execution_count": null,
   "metadata": {},
   "outputs": [],
   "source": [
    "# Throw out the samples that don't have the right frequency axis bin width (there's just a few)\n",
    "target_value = 1.34583\n",
    "precision = 5  # Round to 5 decimal places\n",
    "wf_sr = 44100\n",
    "wf_win = 32768\n",
    "\n",
    "# Function to compute the difference and round it\n",
    "def diff_is_target(row):\n",
    "    # if it's a waveform, skipp\n",
    "    if row['sr'] != 0:\n",
    "        freqs = rfftfreq(wf_win, 1/wf_sr)\n",
    "    # Otherwise, Get the array from the 'freqs' column\n",
    "    else:\n",
    "        freqs = np.array(row['freqs'])\n",
    "    \n",
    "    diff = freqs[1] - freqs[0]\n",
    "    return round(diff, precision) == round(target_value, precision)\n",
    "\n",
    "# Filter the dataframe\n",
    "print(f\"{len(df[df.apply(diff_is_target, axis=1)])}/ {len(df)}\")"
   ]
  },
  {
   "cell_type": "code",
   "execution_count": null,
   "metadata": {
    "scrolled": true
   },
   "outputs": [],
   "source": [
    "\n",
    "row = df.iloc[1020]\n",
    "print(np.diff(row['freqs'])[9998])\n",
    "# print(rfftfreq(32768, 1/44100)[10000])\n",
    "plt.plot(np.diff(row['freqs']))\n",
    "plt.show()\n",
    "plt.plot(np.diff(rfftfreq(32768, 1/44100)))\n",
    "plt.show()\n",
    "\n"
   ]
  },
  {
   "cell_type": "code",
   "execution_count": null,
   "metadata": {},
   "outputs": [],
   "source": []
  }
 ],
 "metadata": {
  "kernelspec": {
   "display_name": "Python 3 (ipykernel)",
   "language": "python",
   "name": "python3"
  },
  "language_info": {
   "codemirror_mode": {
    "name": "ipython",
    "version": 3
   },
   "file_extension": ".py",
   "mimetype": "text/x-python",
   "name": "python",
   "nbconvert_exporter": "python",
   "pygments_lexer": "ipython3",
   "version": "3.9.12"
  }
 },
 "nbformat": 4,
 "nbformat_minor": 4
}
