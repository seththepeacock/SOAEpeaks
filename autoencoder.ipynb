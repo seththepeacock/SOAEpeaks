{
 "cells": [
  {
   "cell_type": "code",
   "execution_count": null,
   "metadata": {},
   "outputs": [],
   "source": [
    "import numpy as np\n",
    "import tensorflow as tf\n",
    "from tensorflow.python.keras.models import Model\n",
    "from tensorflow.python.keras.layers import Input, Conv1D, MaxPooling1D, UpSampling1D\n",
    "from tensorflow.python.keras.regularizers import l1"
   ]
  },
  {
   "cell_type": "code",
   "execution_count": null,
   "metadata": {},
   "outputs": [],
   "source": [
    "# Configuration variables\n",
    "HLactivation = 'relu'               # Activation for hidden layers\n",
    "outputactivation = 'sigmoid'        # Activation for output layer\n",
    "filtersize = 5                      # Variable kernel size for Conv1D layers\n",
    "use_l1_regularization = True        # Toggle L1 regularization on or off\n",
    "l1_lambda = 0.001                   # L1 regularization coefficient, if applicable\n",
    "\n",
    "# Loss weights\n",
    "weighted_loss_type = 'exponential'  # Options: 'exponential' or 'square'\n",
    "weight_min = 100                  # Minimal freq_bin index to weight. Avoids weighting the near zero \"peak\".\n",
    "\n",
    "# Channel numbers for each Conv1D layer\n",
    "channel_num1 = 32\n",
    "channel_num2 = 16\n",
    "channel_num3 = 8\n",
    "\n",
    "# Max pooling down/upsampling ratio\n",
    "MP_ratio = 4\n",
    "\n",
    "# Define a weighted loss function based on the variable choice\n",
    "def weighted_mse(y_true, y_pred):\n",
    "    if weighted_loss_type == 'exponential':\n",
    "        weights = tf.exp(y_true)\n",
    "    elif weighted_loss_type == 'square':\n",
    "        weights = tf.square(y_true)\n",
    "    else:\n",
    "        raise ValueError(\"Invalid weighted_loss_type. Choose 'exponential' or 'square'.\")\n",
    "    # If we're below the cutoff, just replace the weight with the lowest calculated weight.\n",
    "    # This way we don't care much about the universal near zero \"peak\"\n",
    "    weights[0:weight_min] = np.min(weights)\n",
    "    return tf.reduce_mean(weights * tf.square(y_true - y_pred))\n",
    "\n",
    "# Define the encoder\n",
    "input_data = Input(shape=(1000, 1))\n",
    "\n",
    "# Optional L1 regularization\n",
    "if use_l1_regularization:\n",
    "    regularizer = l1(l1_lambda)\n",
    "else:\n",
    "    regularizer = None\n",
    "\n",
    "# Encoder with variable channel numbers\n",
    "x = Conv1D(channel_num1, filtersize, activation=HLactivation, padding='same', kernel_regularizer=regularizer)(input_data)\n",
    "x = MaxPooling1D(MP_ratio, padding='same')(x)\n",
    "x = Conv1D(channel_num2, filtersize, activation=HLactivation, padding='same', kernel_regularizer=regularizer)(x)\n",
    "x = MaxPooling1D(MP_ratio, padding='same')(x)\n",
    "x = Conv1D(channel_num3, filtersize, activation=HLactivation, padding='same', kernel_regularizer=regularizer)(x)\n",
    "encoded = MaxPooling1D(MP_ratio, padding='same')(x)\n",
    "\n",
    "# Decoder with variable channel numbers\n",
    "x = Conv1D(channel_num3, filtersize, activation=HLactivation, padding='same', kernel_regularizer=regularizer)(encoded)\n",
    "x = UpSampling1D(MP_ratio)(x)\n",
    "x = Conv1D(channel_num2, filtersize, activation=HLactivation, padding='same', kernel_regularizer=regularizer)(x)\n",
    "x = UpSampling1D(MP_ratio)(x)\n",
    "x = Conv1D(channel_num1, filtersize, activation=HLactivation, padding='same', kernel_regularizer=regularizer)(x)\n",
    "x = UpSampling1D(MP_ratio)(x)\n",
    "decoded = Conv1D(1, filtersize, activation=outputactivation, padding='same')(x)\n",
    "\n",
    "# Define the autoencoder model\n",
    "autoencoder = Model(input_data, decoded)\n",
    "\n",
    "# Compile the model using the weighted loss function\n",
    "autoencoder.compile(optimizer='adam', loss=weighted_mse)\n",
    "\n",
    "# Print a summary of the model to verify the architecture\n",
    "autoencoder.summary()\n"
   ]
  },
  {
   "cell_type": "code",
   "execution_count": null,
   "metadata": {},
   "outputs": [],
   "source": [
    "# Load the data\n"
   ]
  }
 ],
 "metadata": {
  "kernelspec": {
   "display_name": "base",
   "language": "python",
   "name": "python3"
  },
  "language_info": {
   "name": "python",
   "version": "3.10.15"
  }
 },
 "nbformat": 4,
 "nbformat_minor": 2
}
