{
 "cells": [
  {
   "cell_type": "code",
   "execution_count": null,
   "metadata": {
    "vscode": {
     "languageId": "plaintext"
    }
   },
   "outputs": [],
   "source": [
    "# IMPORTS\n",
    "%load_ext autoreload\n",
    "%autoreload 2\n",
    "import numpy as np\n",
    "from scipy.fft import irfft, rfft, rfftfreq, fft, fftfreq, fftshift, ifft\n",
    "import matplotlib.pyplot as plt\n",
    "import matplotlib\n",
    "from scipy.stats import norm\n",
    "import pandas as pd\n",
    "from scipy.special import wofz\n",
    "from scipy.optimize import curve_fit\n",
    "from scipy.signal import welch, get_window\n",
    "%matplotlib widget \n",
    "from funcs_peak_fitting import *\n",
    "from funcs_dsp import *\n",
    "from funcs_df import load_df"
   ]
  },
  {
   "cell_type": "code",
   "execution_count": null,
   "metadata": {
    "vscode": {
     "languageId": "plaintext"
    }
   },
   "outputs": [],
   "source": [
    "# Load dataframe\n",
    "laptop = True\n",
    "dfs_to_load = [\"Curated Data\"] # If this is empty, all are loaded\n",
    "df = load_df(laptop=laptop, dfs_to_load=dfs_to_load)\n",
    "# Crop to only wf\n",
    "df = df[df['wf'].notna()]\n",
    "# Crop to only species\n",
    "df_human = df[df['species'].isin([\"Human\"])]\n",
    "df_lizard = df[df['species'].isin([\"Lizard\", \"Anolis\"])]\n"
   ]
  },
  {
   "cell_type": "code",
   "execution_count": null,
   "metadata": {
    "vscode": {
     "languageId": "plaintext"
    }
   },
   "outputs": [],
   "source": [
    "# Grab waveforms\n",
    "h_idx = 0\n",
    "l_idx = 0\n",
    "\n",
    "wf_human = df_human.iloc[h_idx]['wf']\n",
    "wf_lizard = df_lizard.iloc[l_idx]['wf']\n",
    "fs_human = df_human.iloc[h_idx]['sr']\n",
    "fs_lizard = df_lizard.iloc[l_idx]['sr']\n",
    "if fs_human == fs_lizard:\n",
    "    fs = fs_human\n",
    "else:\n",
    "    raise(\"Shouldn't these all have the same samplerate?\")"
   ]
  },
  {
   "cell_type": "code",
   "execution_count": null,
   "metadata": {
    "vscode": {
     "languageId": "plaintext"
    }
   },
   "outputs": [],
   "source": [
    "\"\"\" Get PSDs and plot SOAE data \"\"\"\n",
    "plt.close('all')\n",
    "# Parameters\n",
    "scaling = \"density\"\n",
    "detrend = None # No detrending\n",
    "win_type = 'boxcar'\n",
    "nperseg = 32768\n",
    "zpad = 2\n",
    "nfft = nperseg*zpad\n",
    "log = False\n",
    "f_min = 500 # Set minimum frequency for crop\n",
    "\n",
    "f_human, psd_human = welch(wf_human, scaling=scaling, fs=fs, window=win_type, nperseg=nperseg, nfft=nfft, detrend=detrend)\n",
    "f_lizard, psd_lizard = welch(wf_lizard, scaling=scaling, fs=fs, window=win_type, nperseg=nperseg, nfft=nfft, detrend=detrend)\n",
    "\n",
    "\n",
    "if np.array_equal(f_human, f_lizard):\n",
    "    f = f_human\n",
    "else:\n",
    "    raise(\"Why aren't these the same?\")\n",
    "\n",
    "f_min_idx = np.argmin(np.abs(f - f_min)) # Convert frequency to index\n",
    "f_max_idx = f_min_idx + 4096*zpad\n",
    "\n",
    "# Crop frequencies\n",
    "f_cropped = f[f_min_idx:f_max_idx]\n",
    "psd_lizard = psd_lizard[f_min_idx:f_max_idx]\n",
    "psd_human = psd_human[f_min_idx:f_max_idx]\n",
    "\n",
    "\n",
    "\n",
    "for psd, species in zip([psd_human, psd_lizard], [\"Human\", \"Lizard\"]):\n",
    "    plt.figure(figsize=(10, 5))\n",
    "    if scaling == 'spectrum':\n",
    "        label = \"Power Spectrum\"\n",
    "        ylabel = \"PS\"\n",
    "    elif scaling == 'density':\n",
    "        label = \"Power Spectral Density\"\n",
    "        ylabel = \"PSD\"\n",
    "        \n",
    "    if log:\n",
    "        # Convert to log\n",
    "        psd = 10 * np.log10(psd)\n",
    "        ylabel += \" (Log)\"\n",
    "    else:\n",
    "        ylabel += \" (Linear)\"\n",
    "    \n",
    "    if detrend == \"constant\":\n",
    "        label += \" (Detrended)\"\n",
    "    elif detrend == False:\n",
    "        label += \" (Not Detrended)\"\n",
    "        \n",
    "    label+=f\": nperseg={nperseg}\"\n",
    "    plt.title(f\"{species} PSD (Cropped)\")\n",
    "    plt.plot(f_cropped, psd, label=\"Proposed Crop\")\n",
    "    plt.xlabel(\"Frequency (Hz)\")\n",
    "    plt.ylabel(ylabel)\n",
    "    plt.legend()\n",
    "    plt.show()\n",
    "    "
   ]
  },
  {
   "cell_type": "code",
   "execution_count": null,
   "metadata": {
    "vscode": {
     "languageId": "plaintext"
    }
   },
   "outputs": [],
   "source": [
    "# Define fitting function\n",
    "\n",
    "\n",
    "def fit_peak(x, y, f0, y0, amp, gamma, sigma, f_hw=100, log=False, species=None):\n",
    "    voigt, lorentz, gauss, lorentz_smeared = Voigt, Lorentzian, Gauss, Lorentzian_conv\n",
    "    # Calculate min and max freq idx to crop\n",
    "    f_min = f0 - f_hw\n",
    "    f_max = f0 + f_hw\n",
    "    f_min_idx = np.argmin(np.abs(x - f_min))\n",
    "    f_max_idx = np.argmin(np.abs(x - f_max))\n",
    "    x = x[f_min_idx:f_max_idx]\n",
    "    y = y[f_min_idx:f_max_idx]\n",
    "    \n",
    "    # Set bounds (strangely, I have to let amp run negative to get a good fit...)\n",
    "    bounds = (\n",
    "        [f_min, 0, -1, 0, 0], # f0, y0, amp, gamma, sigma\n",
    "        [f_max, np.inf, np.inf, np.inf, np.inf] \n",
    "    )\n",
    "    \n",
    "    # Set initial guess\n",
    "    p0 = [f0, y0, amp, gamma, sigma]\n",
    "    \n",
    "    # Crop bounds/p0 for gauss and lorentz dirichlete less params\n",
    "    bounds_lorentz = (bounds[0][:4], bounds[1][:4])\n",
    "    p0_lorentz = p0[0:4]\n",
    "    bounds_gauss = (bounds[0][:3] + [bounds[0][4]], bounds[1][:3] + [bounds[1][4]])\n",
    "    p0_gauss = p0[0:3] + p0[4:]\n",
    "    # bounds_dirichlet = (bounds[0][:3], bounds[1][:3])\n",
    "    # p0_dirichlet = p0[0:3]\n",
    "    \n",
    "    \n",
    "    \n",
    "    lorentz_params, lorentz_cov = curve_fit(lorentz, x, y, bounds=bounds_lorentz, p0=p0_lorentz)\n",
    "    gauss_params, gauss_cov = curve_fit(gauss, x, y, bounds=bounds_gauss, p0=p0_gauss)\n",
    "    voigt_params, voigt_cov = curve_fit(voigt, x, y, bounds=bounds, p0=p0)\n",
    "    # dirichlet_params, dirichlet_cov = curve_fit(dirichlet_mag, x, y, bounds=bounds_dirichlet, p0=p0_dirichlet)\n",
    "    lorentz_smeared_params, lorentz_smeared_cov = curve_fit(lorentz_smeared, x, y, bounds=bounds_lorentz, p0=p0_lorentz)\n",
    "\n",
    "    lorentz_fit = lorentz(x, *lorentz_params)\n",
    "    gauss_fit = gauss(x, *gauss_params)\n",
    "    voigt_fit = voigt(x, *voigt_params)\n",
    "    # dirichlet_fit = dirichlet_mag(x, *dirichlet_params)\n",
    "    lorentz_smeared_fit = lorentz_smeared(x, *lorentz_params)\n",
    "\n",
    "    print(\"\")\n",
    "    \n",
    "    # Print MSE Details\n",
    "    scale1e = -22\n",
    "    best_mse = np.inf\n",
    "    best_type = None\n",
    "\n",
    "    for type, fit in zip([\"Lorentzian\", \"Gaussian\", \"Voigt\",  \"Lorentz Smeared\"], [lorentz_fit, gauss_fit, voigt_fit, lorentz_smeared_fit]):\n",
    "        mse = np.mean((fit - y)**2)\n",
    "        if best_mse > mse:\n",
    "            best_mse = mse\n",
    "            best_type = type\n",
    "        \n",
    "        print(f\"MSE (1e{scale1e}) of {type} = {mse*(10**-scale1e):.2f}\")\n",
    "    \n",
    "    print(f\"Best Fit = {best_type}\")\n",
    "    \n",
    "    print(\"\")\n",
    "    \n",
    "    # Print fitting parameters\n",
    "    \n",
    "    print(\"LORENTZIAN\")\n",
    "    print(f\"f0 = {lorentz_params[0]:.2f}, y0 = {lorentz_params[1]*10**10:.2f}e-10, amp = {lorentz_params[2]*10**10:.2f}e-10, Gamma (HWHM) = {lorentz_params[-1]:.2f}\")\n",
    "    print(\"LORENTZIAN SMEARED\")\n",
    "    print(f\"f0 = {lorentz_smeared_params[0]:.2f}, y0 = {lorentz_smeared_params[1]*10**10:.2f}e-10, amp = {lorentz_smeared_params[2]*10**10:.2f}e-10, Gamma (HWHM) = {lorentz_smeared_params[-1]:.2f}\")\n",
    "    print(\"GAUSSIAN\")\n",
    "    print(f\"f0 = {gauss_params[0]:.2f}, y0 = {gauss_params[1]*10**10:.2f}e-10, amp = {gauss_params[2]*10**10:.2f}e-10, Sigma = {gauss_params[-1]:.2f}, HWHM = {get_gauss_hwhm(gauss_params[-1]):.2f}\")\n",
    "    print(f\"VOIGT\")\n",
    "    print(f\"f0 = {voigt_params[0]:.2f}, y0 = {voigt_params[1]*10**10:.2f}e-10, amp = {voigt_params[2]*10**10:.2f}e-10, Gamma = {voigt_params[-2]:.2f}, Sigma = {voigt_params[-1]:.2f}, HWHM = {get_voigt_hwhm(voigt_params[-2], voigt_params[-1]):.2f}\")\n",
    "    # print(f\"SINC\")\n",
    "    # print(f\"f0 = {dirichlet_params[0]:.2f}, y0 = {dirichlet_params[1]*10**10:.2f}e-10, amp = {dirichlet_params[2]*10**10:.2f}e-10\")\n",
    "    \n",
    "    print(\"\")\n",
    "    \n",
    "\n",
    "    ylabel = \"PSD\"\n",
    "    if log:\n",
    "        y = 10*np.log10(y)\n",
    "        ylabel = ylabel + \" (Log)\"\n",
    "        \n",
    "    plt.close('all')\n",
    "    plt.figure(figsize=(10, 5))\n",
    "    plt.title(f\"Peak Shape Fit\")\n",
    "    if species is not None:\n",
    "        plt.title(f\"Peak Shape Fit ({species})\")\n",
    "    plt.scatter(x, y, label=\"Original PSD\", alpha=0.5, s=5, color='g', zorder=4)\n",
    "    plt.plot(x, voigt_fit, label=\"Voigt Fit\", color='c', zorder=1)\n",
    "    plt.plot(x, lorentz_fit, label=\"Lorentzian Fit\", color='b', zorder=2)\n",
    "    plt.plot(x, gauss_fit, label=\"Gaussian Fit\", color='m', zorder=3)\n",
    "    plt.plot(x, lorentz_smeared_fit, label=\"Smeared Lorentzian Fit\", color='y', zorder=5)\n",
    "    plt.xlabel(\"Frequency (Hz)\")\n",
    "    plt.ylabel(ylabel)\n",
    "    plt.legend()\n",
    "    plt.show()"
   ]
  },
  {
   "cell_type": "code",
   "execution_count": null,
   "metadata": {
    "vscode": {
     "languageId": "plaintext"
    }
   },
   "outputs": [],
   "source": [
    "\"Lizard Peak Shape Fitting\"\n",
    "x = f_cropped\n",
    "y = psd_lizard\n",
    "log = False # Log scale\n",
    "f_hw = 150 # Amount on either side to include\n",
    "# Initial Guesses\n",
    "f0 = 3710 # Peak center\n",
    "y0 = 0 # Vertical shift\n",
    "amp = 1e-8 # Peak max\n",
    "gamma = 1 # FWHM of Lorentzian, or \"amount\" of Lorentzian in Voigt\n",
    "sigma = 1 # Std of Gaussian, or \"amount\" of Gaussian in Voigt\n",
    "\n",
    "print(\"Lizard SOAE Peak Fitting\")\n",
    "fit_peak(x, y, f0, y0, amp, gamma, sigma, f_hw=f_hw, log=False, species=None)"
   ]
  },
  {
   "cell_type": "code",
   "execution_count": null,
   "metadata": {
    "vscode": {
     "languageId": "plaintext"
    }
   },
   "outputs": [],
   "source": [
    "\"Human Peak Shape Fitting\"\n",
    "species = \"Human\"\n",
    "x = f_cropped\n",
    "y = psd_human\n",
    "log = False # Log scale\n",
    "f_hw = 5 # Amount on either side to include\n",
    "# Initial Guesses\n",
    "f0 = 2252 # Peak center (4372, 2252)\n",
    "y0 = 0 # Vertical shift\n",
    "amp = 3e-7 # Peak max\n",
    "gamma = 1 # FWHM of Lorentzian, or \"amount\" of Lorentzian in Voigt\n",
    "sigma = 1 # Std of Gaussian, or \"amount\" of Gaussian in Voigt\n",
    "\n",
    "\n",
    "fit_peak(x, y, f0, y0, amp, gamma, sigma, f_hw=f_hw, log=log, species=species)"
   ]
  }
 ],
 "metadata": {
  "language_info": {
   "name": "python"
  }
 },
 "nbformat": 4,
 "nbformat_minor": 2
}
