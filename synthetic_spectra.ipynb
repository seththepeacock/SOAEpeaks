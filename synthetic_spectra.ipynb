{
 "cells": [
  {
   "cell_type": "code",
   "execution_count": null,
   "metadata": {},
   "outputs": [],
   "source": [
    "%load_ext autoreload\n",
    "%autoreload 2\n",
    "import numpy as np\n",
    "from scipy.fft import rfft, rfftfreq\n",
    "import matplotlib.pyplot as plt\n",
    "\n",
    "import pandas as pd\n",
    "import os\n",
    "\n",
    "from helper_funcs import *"
   ]
  },
  {
   "cell_type": "code",
   "execution_count": null,
   "metadata": {},
   "outputs": [],
   "source": [
    "f = rfftfreq(32768, 1/44100)[0:8192]\n",
    "noise_floors = []\n",
    "species_list = []\n",
    "filepaths = []\n",
    "\n",
    "rows = []\n",
    "\n",
    "for noise_floor, species, filepath in zip(noise_floors, species_list, filepaths):\n",
    "    d = gen_spectrum(f=f, species=species, noise_floor=noise_floor, noise_sigma=0.01, f0_dist='chi', plot=True)\n",
    "    \n",
    "    \n",
    "    # rows.append(d)\n",
    "    \n",
    "# synth_transfer_df = pd.DataFrame(rows)\n",
    "# synth_transfer_df.to_parquet(\"synth_transfer_df.parquet\", engine='pyarrow')"
   ]
  },
  {
   "cell_type": "code",
   "execution_count": null,
   "metadata": {},
   "outputs": [],
   "source": [
    "\n",
    "transfer_samples = gen_samples(df=synth_transfer_df, hwhm_max=150, snr_max=20)\n",
    "general_samples = gen_samples(df=synth_general_df, hwhm_max=150, snr_max=20)\n",
    "samples = np.concatenate((transfer_samples, general_samples), axis=0)"
   ]
  },
  {
   "cell_type": "code",
   "execution_count": null,
   "metadata": {},
   "outputs": [],
   "source": [
    "# VISUALIZE CHI SQUARE POSITION DIST\n",
    "# Parameters for the chi-square distribution\n",
    "f0_chi_dof = 10  # k (degrees of freedom)\n",
    "num_samples = 10000     # Number of samples to generate\n",
    "\n",
    "# Generate samples from a chi-square distribution\n",
    "f0_chi_og_pivot = 20\n",
    "f0_chi_new_pivot = 6000\n",
    "chi_square_samples = np.random.chisquare(df=f0_chi_dof, size=num_samples)*f0_chi_new_pivot/f0_chi_og_pivot\n",
    "\n",
    "# Plot the histogram of the samples\n",
    "plt.hist(chi_square_samples, bins=50, density=True, alpha=0.7, color='blue', edgecolor='black')\n",
    "plt.title(f'Chi-Square Distribution (k={f0_chi_dof})')\n",
    "plt.xlabel('Value')\n",
    "plt.ylabel('Density')\n",
    "plt.grid(True)\n",
    "plt.show()"
   ]
  },
  {
   "cell_type": "code",
   "execution_count": null,
   "metadata": {},
   "outputs": [],
   "source": [
    "# VISUALIZE LORENTZIAN\n",
    "f = rfftfreq(32768, 1/44100)\n",
    "f0 = f[5000]\n",
    "snr = 20\n",
    "hwhm = 1\n",
    "\n",
    "plt.plot(f, lorentzian(f, f0, hwhm, snr))\n",
    "plt.plot(f, np.ones(len(f)) * 10)\n",
    "plt.xlim(f0-2, f0+2)\n",
    "plt.show()"
   ]
  },
  {
   "cell_type": "code",
   "execution_count": null,
   "metadata": {},
   "outputs": [],
   "source": [
    "# VISUALIZE NOISE FLOOR\n",
    "# Get frequency axis\n",
    "f = rfftfreq(32768, 1/44100)[0:8192]\n",
    "\n",
    "# First navigate to our directory\n",
    "directory_path = os.path.join(\"Data\", \"processed_df.parquet\")\n",
    "# Load the dataframe\n",
    "df = pd.read_parquet(directory_path)\n",
    "\n",
    "df = df[df['filepath'].str.contains(\"UWO Data\")]\n",
    "df = df[df['filepath'].str.contains(\"waveform\")]\n",
    "df = df.sample(frac=1).reset_index(drop=True)\n",
    "spectrums = df['spectrum'].to_list()\n",
    "filepaths = df['filepath'].to_list()\n",
    "species = df['species'].to_list()"
   ]
  },
  {
   "cell_type": "code",
   "execution_count": null,
   "metadata": {},
   "outputs": [],
   "source": [
    "frac_broad= 0.3\n",
    "smoothing_sigma = 150\n",
    "fit_close_cutoff = 300\n",
    "\n",
    "i = 0\n",
    "\n",
    "for spectrum, filepath in zip(spectrums, filepaths):\n",
    "    i+=1\n",
    "    if i > 10:\n",
    "        break\n",
    "    \n",
    "    \n",
    "    noise_floor = get_noise_floor(f, spectrum)\n",
    "    plt.plot(f, spectrum, label='Original Spectrum')\n",
    "    # plt.plot(f, min_spectrum, 'black', label='min_spectrum')\n",
    "    # plt.plot(f, fit_broad,'g--',label='Broad LOWESS Fit')\n",
    "    # plt.plot(f, fit_close,'r--',label='Close LOWESS Fit')\n",
    "    plt.plot(f, noise_floor,'black',label='Noise Floor')\n",
    "    plt.legend()\n",
    "    plt.title(filepath)\n",
    "    plt.savefig(filepath + \".png\")\n",
    "    plt.show()\n",
    "    "
   ]
  },
  {
   "cell_type": "code",
   "execution_count": null,
   "metadata": {},
   "outputs": [],
   "source": []
  }
 ],
 "metadata": {
  "kernelspec": {
   "display_name": "base",
   "language": "python",
   "name": "python3"
  },
  "language_info": {
   "codemirror_mode": {
    "name": "ipython",
    "version": 3
   },
   "file_extension": ".py",
   "mimetype": "text/x-python",
   "name": "python",
   "nbconvert_exporter": "python",
   "pygments_lexer": "ipython3",
   "version": "3.10.15"
  }
 },
 "nbformat": 4,
 "nbformat_minor": 4
}
