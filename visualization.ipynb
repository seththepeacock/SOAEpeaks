{
 "cells": [
  {
   "cell_type": "code",
   "execution_count": null,
   "metadata": {},
   "outputs": [],
   "source": [
    "%load_ext autoreload\n",
    "%autoreload 2\n",
    "import importlib\n",
    "import numpy as np\n",
    "from plots import *\n",
    "from processing_funcs import *\n",
    "import matplotlib.pyplot as plt\n",
    "import pandas as pd\n",
    "from pathlib import Path"
   ]
  },
  {
   "cell_type": "code",
   "execution_count": null,
   "metadata": {},
   "outputs": [],
   "source": [
    "# Load dataframe(s) and concatenate (with laptop=False this loads ALL the data with OSC paths)\n",
    "laptop = True\n",
    "df = load_df(laptop=laptop)"
   ]
  },
  {
   "cell_type": "code",
   "execution_count": null,
   "metadata": {},
   "outputs": [],
   "source": [
    "# Get spectrum from waveforms\n",
    "df = process_wfs(df)"
   ]
  },
  {
   "cell_type": "code",
   "execution_count": null,
   "metadata": {},
   "outputs": [],
   "source": [
    "def plot_supp(species=None, num=0, filepath=None, save=False):\n",
    "    if filepath is None and species is not None:\n",
    "        row = df[(df['species'] == species) & (df['sr'] == 0)].iloc[num]\n",
    "    elif filepath is not None:\n",
    "        row = df.loc[df['filepath'] == filepath].iloc[0]\n",
    "    elif filepath is None and species is None:\n",
    "        raise ValueError(\"We need either a filepath or a species!\")\n",
    "    freqs = row['freqs']\n",
    "    spectrum = row['spectrum']\n",
    "    path = Path(row['filepath'])\n",
    "    species = row['species']\n",
    "    plt.figure(num)\n",
    "    plt.plot(freqs/1000, spectrum)\n",
    "    plt.xlabel(\"Frequency (kHz)\")\n",
    "    plt.ylabel(\"dB SPL\")\n",
    "    title = f\"{species} SOAE Spectrum ({path.name})\"\n",
    "    plt.title(title)\n",
    "    if save:\n",
    "        plt.savefig(path.name + \".png\")\n",
    "    plt.show()"
   ]
  },
  {
   "cell_type": "code",
   "execution_count": null,
   "metadata": {},
   "outputs": [],
   "source": [
    "plot_supp(filepath=r\"York Data\\01.08.14\\ALrearSOAEsupp1.txt\")\n",
    "plot_supp(filepath=r\"York Data\\01.08.14\\ALrearSOAEwf1.txt\")"
   ]
  },
  {
   "cell_type": "code",
   "execution_count": null,
   "metadata": {},
   "outputs": [],
   "source": [
    "plot_supp(\"Human\", 42, save=True)"
   ]
  },
  {
   "cell_type": "code",
   "execution_count": null,
   "metadata": {},
   "outputs": [],
   "source": [
    "# Get number of each species and plot in a bar chart\n",
    "species_counts = df[df['species']!=\"\"]['species'].value_counts()\n",
    "\n",
    "# Create the bar chart\n",
    "plt.figure(figsize=(10, 6))\n",
    "plt.bar(species_counts.index, species_counts.values)\n",
    "\n",
    "# Add labels and title\n",
    "plt.xlabel('Species')\n",
    "plt.ylabel('Count')\n",
    "plt.title('Species Distribution')\n",
    "plt.xticks(rotation=45)  # Rotate labels for better readability if needed\n",
    "plt.tight_layout()  # Adjust layout to prevent label cutoff\n",
    "plt.savefig('species_distribution.png', dpi=300, bbox_inches='tight')  # Adjust dpi and bounding box\n",
    "plt.show()\n",
    "\n"
   ]
  },
  {
   "cell_type": "code",
   "execution_count": null,
   "metadata": {},
   "outputs": [],
   "source": [
    "# Get number of each species and plot in a bar chart\n",
    "species_counts = df[df['species']!=\"\"]['species'].value_counts()\n",
    "\n",
    "# Create the bar chart\n",
    "plt.figure(figsize=(10, 6))\n",
    "plt.bar(species_counts.index, species_counts.values)\n",
    "\n",
    "# Add labels and title\n",
    "plt.xlabel('Species')\n",
    "plt.ylabel('Count')\n",
    "plt.title('Species Distribution')\n",
    "plt.xticks(rotation=45)  # Rotate labels for better readability if needed\n",
    "plt.tight_layout()  # Adjust layout to prevent label cutoff\n",
    "plt.savefig('species_distribution.png', dpi=300, bbox_inches='tight')  # Adjust dpi and bounding box\n",
    "plt.show()\n",
    "\n"
   ]
  },
  {
   "cell_type": "code",
   "execution_count": null,
   "metadata": {},
   "outputs": [],
   "source": [
    "# Get number of each species and plot in a bar chart\n",
    "species_counts = df[df['species']!=\"\"]['species'].value_counts()\n",
    "\n",
    "# Create the bar chart\n",
    "plt.figure(figsize=(10, 6))\n",
    "plt.bar(species_counts.index, species_counts.values)\n",
    "\n",
    "# Add labels and title\n",
    "plt.xlabel('Species')\n",
    "plt.ylabel('Count')\n",
    "plt.title('Species Distribution')\n",
    "plt.xticks(rotation=45)  # Rotate labels for better readability if needed\n",
    "plt.tight_layout()  # Adjust layout to prevent label cutoff\n",
    "plt.savefig('species_distribution.png', dpi=300, bbox_inches='tight')  # Adjust dpi and bounding box\n",
    "plt.show()\n",
    "\n"
   ]
  },
  {
   "cell_type": "code",
   "execution_count": null,
   "metadata": {},
   "outputs": [],
   "source": [
    "# Get number of each species and plot in a bar chart\n",
    "species_counts = df[df['species']!=\"\"]['species'].value_counts()\n",
    "\n",
    "# Create the bar chart\n",
    "plt.figure(figsize=(10, 6))\n",
    "plt.bar(species_counts.index, species_counts.values)\n",
    "\n",
    "# Add labels and title\n",
    "plt.xlabel('Species')\n",
    "plt.ylabel('Count')\n",
    "plt.title('Species Distribution')\n",
    "plt.xticks(rotation=45)  # Rotate labels for better readability if needed\n",
    "plt.tight_layout()  # Adjust layout to prevent label cutoff\n",
    "plt.savefig('species_distribution.png', dpi=300, bbox_inches='tight')  # Adjust dpi and bounding box\n",
    "plt.show()\n",
    "\n"
   ]
  },
  {
   "cell_type": "code",
   "execution_count": null,
   "metadata": {},
   "outputs": [],
   "source": [
    "# Get number of each species and plot in a bar chart\n",
    "species_counts = df[df['species']!=\"\"]['species'].value_counts()\n",
    "\n",
    "# Create the bar chart\n",
    "plt.figure(figsize=(10, 6))\n",
    "plt.bar(species_counts.index, species_counts.values)\n",
    "\n",
    "# Add labels and title\n",
    "plt.xlabel('Species')\n",
    "plt.ylabel('Count')\n",
    "plt.title('Species Distribution')\n",
    "plt.xticks(rotation=45)  # Rotate labels for better readability if needed\n",
    "plt.tight_layout()  # Adjust layout to prevent label cutoff\n",
    "plt.savefig('species_distribution.png', dpi=300, bbox_inches='tight')  # Adjust dpi and bounding box\n",
    "plt.show()\n",
    "\n"
   ]
  },
  {
   "cell_type": "code",
   "execution_count": null,
   "metadata": {},
   "outputs": [],
   "source": [
    "# Get number of each species and plot in a bar chart\n",
    "species_counts = df[df['species']!=\"\"]['species'].value_counts()\n",
    "\n",
    "# Create the bar chart\n",
    "plt.figure(figsize=(10, 6))\n",
    "plt.bar(species_counts.index, species_counts.values)\n",
    "\n",
    "# Add labels and title\n",
    "plt.xlabel('Species')\n",
    "plt.ylabel('Count')\n",
    "plt.title('Species Distribution')\n",
    "plt.xticks(rotation=45)  # Rotate labels for better readability if needed\n",
    "plt.tight_layout()  # Adjust layout to prevent label cutoff\n",
    "plt.savefig('species_distribution.png', dpi=300, bbox_inches='tight')  # Adjust dpi and bounding box\n",
    "plt.show()\n",
    "\n"
   ]
  },
  {
   "cell_type": "code",
   "execution_count": null,
   "metadata": {},
   "outputs": [],
   "source": [
    "# Get how many are pre-processed\n",
    "num_preprocessed = (df['sr'] == 0).sum()\n",
    "num_wf = len(df) - num_preprocessed\n",
    "\n",
    "# Create the pie chart\n",
    "plt.figure(figsize=(8, 8))\n",
    "plt.pie([num_preprocessed, num_wf], labels=['Pre-processed Spectra', 'Raw Waveforms'], autopct='%1.1f%%')\n",
    "plt.title('Distribution of Pre-processed Spectra and Raw Waveforms')\n",
    "plt.savefig('pp vs wf.png', dpi=300, bbox_inches='tight')  # Adjust dpi and bounding box\n",
    "plt.show()"
   ]
  },
  {
   "cell_type": "code",
   "execution_count": null,
   "metadata": {},
   "outputs": [],
   "source": [
    "# Out of the preprocessed ones, get a histogram of the spacing between frequency bins\n",
    "freq_diffs = df[df['sr'] == 0]['freqs'].apply(lambda x: x[100] - x[99])\n",
    "freq_diffs.hist()\n",
    "plt.title('Histogram of Freq Diffs for Pre-processed Spectra')\n",
    "plt.xlabel('Freq Diff')\n",
    "plt.ylabel('Frequency')\n",
    "plt.show()"
   ]
  },
  {
   "cell_type": "code",
   "execution_count": null,
   "metadata": {},
   "outputs": [],
   "source": [
    "# Out of the preprocessed ones, get a histogram of the maximum frequency bin value\n",
    "max_freqs = df[df['sr'] == 0]['freqs'].apply(lambda x: x[-1])\n",
    "max_freqs.hist()\n",
    "plt.title('Histogram of Final Frequency Bin for Pre-processed Spectra')\n",
    "plt.xlabel('Max Freq')\n",
    "plt.ylabel('Frequency')\n",
    "plt.show()"
   ]
  },
  {
   "cell_type": "code",
   "execution_count": null,
   "metadata": {},
   "outputs": [],
   "source": [
    "# Calculate max frequencies\n",
    "df_supp = df[df['sr'] == 0]\n",
    "max_freqs = df_supp['freqs'].apply(lambda x: x[-1])\n",
    "\n",
    "# Add a new column to classify max frequencies into categories\n",
    "df_supp['max_freq_category'] = max_freqs.apply(lambda x: '< 20000' if x < 20000 else '> 20000')\n",
    "\n",
    "# Filter data for species with non-empty values\n",
    "species_data = df_supp[df_supp['species'] != \"\"]\n",
    "\n",
    "# Group data by species and max_freq_category, and count occurrences\n",
    "grouped = species_data.groupby(['species', 'max_freq_category']).size().unstack(fill_value=0)\n",
    "\n",
    "# Plot the double bar graph\n",
    "plt.figure(figsize=(12, 6))\n",
    "grouped.plot(kind='bar', width=0.8, figsize=(12, 6))\n",
    "\n",
    "# Add labels and title\n",
    "plt.xlabel('Species')\n",
    "plt.ylabel('Count')\n",
    "plt.title('Species Distribution and Max Frequency (Pre-processed)')\n",
    "plt.xticks(rotation=45)  # Rotate x-axis labels for better readability\n",
    "plt.tight_layout()\n",
    "\n",
    "# Save and show the plot\n",
    "plt.savefig('species_max_freq_double_bar.png', dpi=300, bbox_inches='tight')\n",
    "plt.show()\n"
   ]
  },
  {
   "cell_type": "code",
   "execution_count": null,
   "metadata": {},
   "outputs": [],
   "source": []
  },
  {
   "cell_type": "code",
   "execution_count": null,
   "metadata": {},
   "outputs": [],
   "source": []
  }
 ],
 "metadata": {
  "kernelspec": {
   "display_name": "base",
   "language": "python",
   "name": "python3"
  },
  "language_info": {
   "codemirror_mode": {
    "name": "ipython",
    "version": 3
   },
   "file_extension": ".py",
   "mimetype": "text/x-python",
   "name": "python",
   "nbconvert_exporter": "python",
   "pygments_lexer": "ipython3",
   "version": "3.10.15"
  }
 },
 "nbformat": 4,
 "nbformat_minor": 4
}
