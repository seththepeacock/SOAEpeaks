{
 "cells": [
  {
   "cell_type": "code",
   "execution_count": null,
   "metadata": {},
   "outputs": [],
   "source": [
    "import numpy as np\n",
    "from plots import *\n",
    "import scipy.io\n",
    "import pandas as pd\n",
    "from pathlib import Path\n",
    "\n",
    "def plot_mags(wf, title=None, t_win=1, sf=False):\n",
    "    m = get_mags(wf, sr=44100, t_win=t_win, dict=True)\n",
    "    mags = m['mags']\n",
    "    freq_ax = m['freq_ax']\n",
    "    plt.plot(freq_ax, np.log10(mags)*10)\n",
    "    plt.title(title)\n",
    "    if sf:\n",
    "        plt.savefig(title + \".png\")\n",
    "    plt.show()\n",
    "def plot_supp(path, sf=False):\n",
    "    data = np.loadtxt(path)\n",
    "    freqs = data[:, 0]\n",
    "    mags = data[:, 1]\n",
    "    plt.plot(freqs, mags)\n",
    "    plt.title(str(path).split(\"\\\\\")[-1])\n",
    "    plt.show()"
   ]
  },
  {
   "cell_type": "code",
   "execution_count": null,
   "metadata": {},
   "outputs": [],
   "source": [
    "df = pd.read_parquet('Curated Data.parquet')\n",
    "for index, row in df.iterrows():\n",
    "    wf = row['wf']\n",
    "    filepath = row['filepath']\n",
    "    if filepath.split(\"\\\\\")[1] in [\"Other\", \"Tree Cricket\"]:\n",
    "        continue \n",
    "    plot_mags(wf=wf, title=Path(filepath).stem, t_win=1, sf=True)"
   ]
  },
  {
   "cell_type": "code",
   "execution_count": null,
   "metadata": {},
   "outputs": [],
   "source": []
  }
 ],
 "metadata": {
  "kernelspec": {
   "display_name": "base",
   "language": "python",
   "name": "python3"
  },
  "language_info": {
   "codemirror_mode": {
    "name": "ipython",
    "version": 3
   },
   "file_extension": ".py",
   "mimetype": "text/x-python",
   "name": "python",
   "nbconvert_exporter": "python",
   "pygments_lexer": "ipython3",
   "version": "3.10.15"
  }
 },
 "nbformat": 4,
 "nbformat_minor": 2
}
