{
 "cells": [
  {
   "cell_type": "code",
   "execution_count": 1,
   "id": "64fecd0b-a2fe-4bc5-8edc-a7eab3bd0c7a",
   "metadata": {},
   "outputs": [],
   "source": [
    "from processing_funcs import *"
   ]
  },
  {
   "cell_type": "code",
   "execution_count": null,
   "id": "2153cb6d-792b-4406-812f-6892b81f42e5",
   "metadata": {},
   "outputs": [
    {
     "name": "stdout",
     "output_type": "stream",
     "text": [
      "Loading Pre-2014 Data\n",
      "Loading Curated Data\n",
      "Loading Extra Owl\n"
     ]
    }
   ],
   "source": [
    "# Load dataframe(s) and concatenate (with laptop=False and no dfs_to_load this loads all dataframes with OSC paths)\n",
    "laptop = False\n",
    "dfs_to_load = [\"All\"]\n",
    "df = load_df(laptop=laptop, dfs_to_load=dfs_to_load)"
   ]
  },
  {
   "cell_type": "code",
   "execution_count": null,
   "id": "e5b10281-2a57-47f8-b08a-043963f6316a",
   "metadata": {
    "scrolled": true
   },
   "outputs": [],
   "source": [
    "# Process waveforms (rfft)\n",
    "dfp = process_wfs(df)"
   ]
  },
  {
   "cell_type": "code",
   "execution_count": null,
   "id": "ccecdc8d-b686-4372-aeba-7df379d9c106",
   "metadata": {},
   "outputs": [],
   "source": [
    "# Throw out bad samples and crop spectra\n",
    "dfp = homogenize_df(dfp)"
   ]
  },
  {
   "cell_type": "code",
   "execution_count": null,
   "id": "82ccd62c-4691-4dbc-bea9-39b1e8cb013d",
   "metadata": {},
   "outputs": [],
   "source": [
    "# Max min scaling\n",
    "dfp = max_min_df(dfp)"
   ]
  },
  {
   "cell_type": "code",
   "execution_count": null,
   "id": "f18e9b96-5d98-4ffe-b284-763dfcdeae59",
   "metadata": {},
   "outputs": [],
   "source": [
    "# Save processed dataframe\n",
    "dfp.to_parquet(\"norm_processed_df.parquet\", engine='pyarrow')"
   ]
  },
  {
   "cell_type": "code",
   "execution_count": null,
   "id": "a657f8c1-f290-4284-9c6f-d9a561a774d3",
   "metadata": {},
   "outputs": [],
   "source": []
  }
 ],
 "metadata": {
  "kernelspec": {
   "display_name": "Python 3 (ipykernel)",
   "language": "python",
   "name": "python3"
  },
  "language_info": {
   "codemirror_mode": {
    "name": "ipython",
    "version": 3
   },
   "file_extension": ".py",
   "mimetype": "text/x-python",
   "name": "python",
   "nbconvert_exporter": "python",
   "pygments_lexer": "ipython3",
   "version": "3.9.12"
  }
 },
 "nbformat": 4,
 "nbformat_minor": 5
}
