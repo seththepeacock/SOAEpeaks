{
 "cells": [
  {
   "cell_type": "code",
   "execution_count": 1,
   "metadata": {},
   "outputs": [
    {
     "name": "stderr",
     "output_type": "stream",
     "text": [
      "2024-12-11 00:10:15.628866: I tensorflow/core/platform/cpu_feature_guard.cc:193] This TensorFlow binary is optimized with oneAPI Deep Neural Network Library (oneDNN) to use the following CPU instructions in performance-critical operations:  AVX2 AVX512F AVX512_VNNI FMA\n",
      "To enable them in other operations, rebuild TensorFlow with the appropriate compiler flags.\n",
      "2024-12-11 00:10:15.746185: I tensorflow/core/util/util.cc:169] oneDNN custom operations are on. You may see slightly different numerical results due to floating-point round-off errors from different computation orders. To turn them off, set the environment variable `TF_ENABLE_ONEDNN_OPTS=0`.\n",
      "2024-12-11 00:10:15.751428: W tensorflow/stream_executor/platform/default/dso_loader.cc:64] Could not load dynamic library 'libcudart.so.11.0'; dlerror: libcudart.so.11.0: cannot open shared object file: No such file or directory\n",
      "2024-12-11 00:10:15.751442: I tensorflow/stream_executor/cuda/cudart_stub.cc:29] Ignore above cudart dlerror if you do not have a GPU set up on your machine.\n",
      "2024-12-11 00:10:15.780640: E tensorflow/stream_executor/cuda/cuda_blas.cc:2981] Unable to register cuBLAS factory: Attempting to register factory for plugin cuBLAS when one has already been registered\n",
      "2024-12-11 00:10:30.731944: W tensorflow/stream_executor/platform/default/dso_loader.cc:64] Could not load dynamic library 'libnvinfer.so.7'; dlerror: libnvinfer.so.7: cannot open shared object file: No such file or directory\n",
      "2024-12-11 00:10:30.732047: W tensorflow/stream_executor/platform/default/dso_loader.cc:64] Could not load dynamic library 'libnvinfer_plugin.so.7'; dlerror: libnvinfer_plugin.so.7: cannot open shared object file: No such file or directory\n",
      "2024-12-11 00:10:30.732056: W tensorflow/compiler/tf2tensorrt/utils/py_utils.cc:38] TF-TRT Warning: Cannot dlopen some TensorRT libraries. If you would like to use Nvidia GPU with TensorRT, please make sure the missing libraries mentioned above are installed properly.\n"
     ]
    }
   ],
   "source": [
    "%load_ext autoreload\n",
    "%autoreload 2\n",
    "import os\n",
    "import pandas as pd\n",
    "import tensorflow as tf\n",
    "from tensorflow.keras.layers import Input, Conv1D, Dense, Concatenate, TimeDistributed, LSTM, Bidirectional, Layer\n",
    "from tensorflow.keras.callbacks import EarlyStopping, ModelCheckpoint\n",
    "from tensorflow.keras.models import Model, load_model\n",
    "from tensorflow.keras.optimizers import Adam\n",
    "from tensorflow.keras.losses import BinaryCrossentropy\n",
    "from tensorflow.autograph.experimental import do_not_convert\n",
    "from sklearn.model_selection import train_test_split\n",
    "import numpy as np\n",
    "from helper_funcs import gen_samples\n",
    "from scipy.fft import rfftfreq\n",
    "import pickle\n",
    "import matplotlib.pyplot as plt\n",
    "import time"
   ]
  },
  {
   "cell_type": "code",
   "execution_count": 49,
   "metadata": {},
   "outputs": [],
   "source": [
    "# First navigate to our directory\n",
    "transfer_directory_path = os.path.join(\"Data\", \"synth_transfer_df.parquet\")\n",
    "general_directory_path = os.path.join(\"Data\", \"synth_general_df.parquet\")\n",
    "# Load the dataframes\n",
    "synth_transfer_df = pd.read_parquet(transfer_directory_path)\n",
    "synth_general_df = pd.read_parquet(general_directory_path)\n",
    "# Concatenate (after making sure they share columns) and then reset indices\n",
    "assert list(synth_transfer_df.columns) == list(synth_general_df.columns), \"Column names do not match!\"\n",
    "df = pd.concat([synth_transfer_df, synth_general_df], axis=0)\n",
    "df.reset_index(drop=True, inplace=True)"
   ]
  },
  {
   "cell_type": "code",
   "execution_count": 50,
   "metadata": {},
   "outputs": [],
   "source": [
    "rs=1\n",
    "# Split into train (70%) and temp (30%) with stratification\n",
    "train_df, temp_df = train_test_split(\n",
    "    df,\n",
    "    test_size=0.3,\n",
    "    stratify=df['species'],  # Stratify based on the 'species' column\n",
    "    random_state=rs\n",
    ")\n",
    "\n",
    "# Split temp into test (15%) and validation (15%)\n",
    "test_df, val_df = train_test_split(\n",
    "    temp_df,\n",
    "    test_size=0.5,\n",
    "    stratify=temp_df['species'],  # Stratify again to maintain balance\n",
    "    random_state=rs\n",
    ")"
   ]
  },
  {
   "cell_type": "code",
   "execution_count": 51,
   "metadata": {},
   "outputs": [
    {
     "name": "stdout",
     "output_type": "stream",
     "text": [
      "Generating Training Samples\n",
      "Generating Test Samples\n",
      "Generating Validation Samples\n"
     ]
    }
   ],
   "source": [
    "# Prepare samples\n",
    "print(\"Generating Training Samples\")\n",
    "X_train, y_train, mins_maxes_train, isolated_peaks_train = gen_samples(train_df)\n",
    "print(\"Generating Test Samples\")\n",
    "X_test, y_test, mins_maxes_test, isolated_peaks_test = gen_samples(test_df)\n",
    "print(\"Generating Validation Samples\")\n",
    "X_val, y_val, mins_maxes_val, isolated_peaks_val = gen_samples(val_df)"
   ]
  },
  {
   "cell_type": "code",
   "execution_count": 52,
   "metadata": {},
   "outputs": [],
   "source": [
    "# Restrict to just peak labels (no height/width)\n",
    "M = 191\n",
    "y_train=y_train[0:M, :, 0]\n",
    "y_test=y_test[0:M, :, 0]\n",
    "y_val=y_val[0:M, :, 0]\n",
    "\n",
    "X_train=X_train[0:M, :]\n",
    "X_val=X_val[0:M, :]\n",
    "X_test=X_test[0:M, :]\n",
    "\n",
    "X_train = np.expand_dims(X_train, axis=-1)\n",
    "X_val = np.expand_dims(X_val, axis=-1)\n",
    "X_test = np.expand_dims(X_test, axis=-1)\n",
    "\n",
    "y_train = np.expand_dims(y_train, axis=-1)\n",
    "y_val = np.expand_dims(y_val, axis=-1)\n",
    "y_test = np.expand_dims(y_test, axis=-1)"
   ]
  },
  {
   "cell_type": "code",
   "execution_count": 53,
   "metadata": {},
   "outputs": [
    {
     "name": "stdout",
     "output_type": "stream",
     "text": [
      "Shape of X_train: (191, 8192, 1)\n",
      "Shape of X_val: (191, 8192, 1)\n",
      "Shape of X_test: (191, 8192, 1)\n",
      "Shape of y_train: (191, 8192, 1)\n",
      "Shape of y_val: (191, 8192, 1)\n",
      "Shape of y_test: (191, 8192, 1)\n"
     ]
    }
   ],
   "source": [
    "\n",
    "# Verify the shapes\n",
    "print(\"Shape of X_train:\", X_train.shape)\n",
    "print(\"Shape of X_val:\", X_val.shape)\n",
    "print(\"Shape of X_test:\", X_test.shape)\n",
    "print(\"Shape of y_train:\", y_train.shape)\n",
    "print(\"Shape of y_val:\", y_val.shape)\n",
    "print(\"Shape of y_test:\", y_test.shape)"
   ]
  },
  {
   "cell_type": "code",
   "execution_count": 66,
   "metadata": {},
   "outputs": [],
   "source": [
    "M = 200\n",
    "N = 8192\n",
    "X_train = np.random.rand(M, N, 1)\n",
    "y_train = np.random.randint(0, 2, size=(M, N, 1))\n",
    "X_val = np.random.rand(M, N, 1)\n",
    "y_val = np.random.randint(0, 2, size=(M, N, 1))"
   ]
  },
  {
   "cell_type": "code",
   "execution_count": 67,
   "metadata": {},
   "outputs": [],
   "source": [
    "# Set model parameters \n",
    "k=3\n",
    "peak_encourage=5\n",
    "include_LSTM=False\n",
    "epochs = 3\n",
    "lr = 0.001\n",
    "model_version = f\"SIMPLE_V1_k-{k}_PE-{peak_encourage}_LSTM-{include_LSTM}_Epochs-{epochs}_LR-{lr}\"\n",
    "batch_size = 32\n",
    "patience = 3\n",
    "threshold_list = [0.05, 0.1, 0.15, 0.2]"
   ]
  },
  {
   "cell_type": "code",
   "execution_count": 68,
   "metadata": {},
   "outputs": [
    {
     "name": "stdout",
     "output_type": "stream",
     "text": [
      "Model: \"SIMPLE_V1_k-3_PE-5_LSTM-False_Epochs-3_LR-0.001\"\n",
      "_________________________________________________________________\n",
      " Layer (type)                Output Shape              Param #   \n",
      "=================================================================\n",
      " Input (InputLayer)          [(None, 8192, 1)]         0         \n",
      "                                                                 \n",
      " conv1d_16 (Conv1D)          (None, 8192, 16)          64        \n",
      "                                                                 \n",
      " conv1d_17 (Conv1D)          (None, 8192, 32)          1568      \n",
      "                                                                 \n",
      " Output (Conv1D)             (None, 8192, 1)           33        \n",
      "                                                                 \n",
      "=================================================================\n",
      "Total params: 1,665\n",
      "Trainable params: 1,665\n",
      "Non-trainable params: 0\n",
      "_________________________________________________________________\n"
     ]
    }
   ],
   "source": [
    "# DEFINE MODEL STRUCTURE\n",
    "# Define the input length / number of frequency bins (N)\n",
    "N = 8192\n",
    "\n",
    "# Input layer\n",
    "input_layer = Input(shape=(N, 1), name=\"Input\")\n",
    "\n",
    "x = Conv1D(16, kernel_size=3, activation='relu', padding='same')(input_layer)\n",
    "x = Conv1D(32, kernel_size=3, activation='relu', padding='same')(x)\n",
    "output_layer = Conv1D(1, kernel_size=1, activation='sigmoid', name=\"Output\", padding='same')(x)\n",
    "\n",
    "# Define the model to output both predictions and weights\n",
    "model = tf.keras.Model(\n",
    "    inputs=input_layer, \n",
    "    outputs=output_layer,  # Explicitly define both outputs\n",
    "    name=model_version\n",
    ")\n",
    "\n",
    "\n",
    "# Compile the model (lambda function in loss to allow for prominences to be passed in as weights)\n",
    "model.compile(\n",
    "    optimizer=tf.keras.optimizers.Adam(learning_rate=lr),\n",
    "    loss='binary_crossentropy'\n",
    ")\n",
    "\n",
    "model.summary()\n"
   ]
  },
  {
   "cell_type": "code",
   "execution_count": 69,
   "metadata": {},
   "outputs": [
    {
     "name": "stdout",
     "output_type": "stream",
     "text": [
      "(200, 8192, 1)\n",
      "[[0.48246836]\n",
      " [0.88172299]\n",
      " [0.8440326 ]\n",
      " ...\n",
      " [0.05811082]\n",
      " [0.93639609]\n",
      " [0.67529947]]\n",
      "(200, 8192, 1)\n",
      "[[0.37831877]\n",
      " [0.54414462]\n",
      " [0.69887095]\n",
      " ...\n",
      " [0.3396399 ]\n",
      " [0.41654121]\n",
      " [0.11452905]]\n",
      "Epoch 1/3\n",
      "7/7 [==============================] - 1s 80ms/step - loss: 0.6935 - val_loss: 0.6933\n",
      "Epoch 2/3\n",
      "7/7 [==============================] - 0s 66ms/step - loss: 0.6933 - val_loss: 0.6932\n",
      "Epoch 3/3\n",
      "7/7 [==============================] - 0s 65ms/step - loss: 0.6932 - val_loss: 0.6932\n",
      "Execution time: 1.71 seconds\n"
     ]
    }
   ],
   "source": [
    "# TRAIN MODEL\n",
    "start_time = time.time()\n",
    "model_path = os.path.join(\"PP Model\", f\"{model_version}.keras\")\n",
    "\n",
    "# Add callbacks for better training\n",
    "callbacks = [\n",
    "    # ValidationMetricCallback(validation_data=(X_val, (y_val, isolated_peaks_val)), metric_name=\"peak_counting_error\"),\n",
    "    # EarlyStopping(monitor=\"peak_counting_error\", patience=patience, restore_best_weights=True, verbose=1),  # Stop if no improvement for 5 epochs\n",
    "    # ModelCheckpoint(model_path, save_best_only=True, monitor='peak_counting_error'),  # Save the best model\n",
    "    ModelCheckpoint(model_path, save_best_only=True, monitor='val_loss'),  # Save the best model\n",
    "]\n",
    "\n",
    "print(X_train.shape) \n",
    "print(X_train[0, :])\n",
    "print(X_val.shape) \n",
    "print(X_val[0, :])\n",
    "\n",
    "# Train the model\n",
    "history = model.fit(\n",
    "    x=X_train,\n",
    "    y=y_train,\n",
    "    validation_data=(X_val, y_val),\n",
    "    epochs=epochs,        # Number of epochs\n",
    "    batch_size=batch_size,  # Batch size\n",
    "    callbacks=callbacks,    # Add callbacks for early stopping and checkpointing\n",
    "    verbose=1               # Verbose output\n",
    ")\n",
    "\n",
    "\n",
    "with open(os.path.join(\"PP Model\", f\"{model_version}_history.pkl\"), 'wb') as file:\n",
    "    pickle.dump(history.history, file)\n",
    "    \n",
    "elapsed_time = time.time() - start_time\n",
    "print(f\"Execution time: {elapsed_time:.2f} seconds\")"
   ]
  },
  {
   "cell_type": "code",
   "execution_count": 70,
   "metadata": {},
   "outputs": [],
   "source": [
    "# model = load_model(os.path.join(\"PP Model\", f\"{model_version}.keras\"))\n",
    "# model = load_model(os.path.join(\"PP Model\", \"V1_k-3_PE-1_LSTM-False_Epochs-15_LR-0.001.keras\"), custom_objects={\"custom_loss\": custom_loss})"
   ]
  },
  {
   "cell_type": "code",
   "execution_count": 71,
   "metadata": {},
   "outputs": [
    {
     "name": "stdout",
     "output_type": "stream",
     "text": [
      "7/7 [==============================] - 0s 9ms/step\n"
     ]
    },
    {
     "data": {
      "text/plain": [
       "array([[0.49343887],\n",
       "       [0.4955425 ],\n",
       "       [0.49360323],\n",
       "       ...,\n",
       "       [0.503439  ],\n",
       "       [0.5045954 ],\n",
       "       [0.497515  ]], dtype=float32)"
      ]
     },
     "execution_count": 71,
     "metadata": {},
     "output_type": "execute_result"
    }
   ],
   "source": [
    "# Assuming the predicted values are probabilities from 0 to 1\n",
    "sample_idx = 5\n",
    "val_pred = model.predict(X_val)  # Predicted probabilities or binary values\n",
    "val_pred[sample_idx, :]\n"
   ]
  },
  {
   "cell_type": "code",
   "execution_count": 72,
   "metadata": {},
   "outputs": [
    {
     "name": "stdout",
     "output_type": "stream",
     "text": [
      "(8192, 1)\n"
     ]
    }
   ],
   "source": [
    "print(val_pred[sample_idx, :].shape)"
   ]
  },
  {
   "cell_type": "code",
   "execution_count": 73,
   "metadata": {},
   "outputs": [
    {
     "name": "stdout",
     "output_type": "stream",
     "text": [
      "(200, 8192, 1)\n",
      "[[0.49343887]\n",
      " [0.4955425 ]\n",
      " [0.49360323]\n",
      " ...\n",
      " [0.503439  ]\n",
      " [0.5045954 ]\n",
      " [0.497515  ]]\n"
     ]
    },
    {
     "data": {
      "image/png": "[encoded data removed]",
      "text/plain": [
       "<Figure size 640x480 with 2 Axes>"
      ]
     },
     "metadata": {},
     "output_type": "display_data"
    }
   ],
   "source": [
    "# CHECKING PREDICTIONS\n",
    "\n",
    "sample_idx = 5\n",
    "spectrum = X_val[sample_idx, :]\n",
    "# predicted_peaks = val_pred[sample_idx, :, 2] \n",
    "predicted_peaks = val_pred[sample_idx, :]\n",
    "print(val_pred.shape)\n",
    "print(predicted_peaks)\n",
    "\n",
    "\n",
    "# Frequency axis for the spectrum\n",
    "f = rfftfreq(32768, 1/44100)[0:8192]\n",
    "\n",
    "# Plot the spectrum\n",
    "plt.plot(f, spectrum, label='Original Spectrum')\n",
    "\n",
    "# Add colors depending on percentage of prediction\n",
    "scatter = plt.scatter(f, spectrum, c=predicted_peaks, cmap='viridis', s=50)\n",
    "\n",
    "# Add color bar\n",
    "plt.colorbar(scatter, label='Predicted Peaks Value')\n",
    "\n",
    "# Add labels and title\n",
    "plt.xlabel('Frequency (Hz)')\n",
    "plt.ylabel('Amplitude')\n",
    "plt.title('Spectrum with Scatter Points Colored by Predicted Peaks Value')\n",
    "plt.show()"
   ]
  },
  {
   "cell_type": "code",
   "execution_count": 10,
   "metadata": {},
   "outputs": [
    {
     "name": "stdout",
     "output_type": "stream",
     "text": [
      "Peak counting error for threshold 0.05: 401.71552471812663\n",
      "Peak counting error for threshold 0.1: 401.71552471812663\n",
      "Peak counting error for threshold 0.15: 436.7172593235039\n",
      "Peak counting error for threshold 0.2: 436.7172593235039\n",
      "Best threshold: 0.05, Best Peak Counting Error: 401.71552471812663\n"
     ]
    }
   ],
   "source": [
    "best_error, best_thresh = peak_counting_error(isolated_peaks_val, val_pred)"
   ]
  },
  {
   "cell_type": "code",
   "execution_count": 12,
   "metadata": {},
   "outputs": [
    {
     "name": "stdout",
     "output_type": "stream",
     "text": [
      "[0.02368795 0.02368795 0.02368795 ... 0.02368795 0.02368795 0.02368795]\n"
     ]
    },
    {
     "data": {
      "image/png": "[encoded data removed]",
      "text/plain": [
       "<Figure size 640x480 with 1 Axes>"
      ]
     },
     "metadata": {},
     "output_type": "display_data"
    }
   ],
   "source": [
    "sample_idx = 0\n",
    "thresh = best_thresh\n",
    "spectrum = X_val[sample_idx, :]\n",
    "predicted_peaks = val_pred[sample_idx, :] \n",
    "\n",
    "# Frequency axis for the spectrum\n",
    "f = rfftfreq(32768, 1/44100)[0:8192]\n",
    "\n",
    "# Find indices where there are peaks (1 in predicted_peaks)\n",
    "peak_indices = np.where(predicted_peaks > thresh)[0]\n",
    "\n",
    "# Plot the spectrum\n",
    "plt.plot(f, spectrum, label='Original Spectrum')\n",
    "\n",
    "# Plot the peaks as scatter points\n",
    "plt.scatter(f[peak_indices], spectrum[peak_indices], color='red', label='Predicted Peaks')\n",
    "\n",
    "# Add labels and legend\n",
    "plt.xlabel('Frequency (Hz)')\n",
    "plt.ylabel('Amplitude')\n",
    "plt.legend()\n",
    "plt.show()"
   ]
  },
  {
   "cell_type": "code",
   "execution_count": null,
   "metadata": {},
   "outputs": [],
   "source": [
    "# Get validation counting accuracy\n",
    "val_peak_counting_accuracy = peak_counting_accuracy(isolated_peaks_val, val_pred)\n",
    "\n",
    "print(\"Test Loss:\", test_loss)\n"
   ]
  },
  {
   "cell_type": "code",
   "execution_count": null,
   "metadata": {},
   "outputs": [],
   "source": [
    "\"\"\"\"\"\"\"\"\"\"\"\"\"\"\"\"\"\"\"\"\"\"\"\"\"\"\"\"\"\"\"\"\"\"\"\"\"\"\"\"\"\"\"\"\"\"\"\""
   ]
  },
  {
   "cell_type": "code",
   "execution_count": null,
   "metadata": {},
   "outputs": [],
   "source": [
    "# CHECKING PEAK LABELS FOR ERRORS\n",
    "\n",
    "sample_idx = 0\n",
    "spectrum = X_train[sample_idx, :]\n",
    "peak_labels = y_train[sample_idx, :, 0]\n",
    "\n",
    "# Frequency axis for the spectrum\n",
    "f = rfftfreq(32768, 1/44100)[0:8192]\n",
    "\n",
    "# Find indices where there are peaks (1 in predicted_peaks)\n",
    "peak_indices = np.where(peak_labels==1)[0]\n",
    "\n",
    "# Plot the spectrum\n",
    "plt.plot(f, spectrum, label='Original Spectrum')\n",
    "\n",
    "# Plot the peaks as scatter points\n",
    "plt.scatter(f[peak_indices], spectrum[peak_indices], color='red', label='Labeled Peaks')\n",
    "\n",
    "# Add labels and legend\n",
    "plt.xlabel('Frequency (Hz)')\n",
    "plt.ylabel('Amplitude')\n",
    "plt.legend()\n",
    "plt.show()"
   ]
  },
  {
   "cell_type": "code",
   "execution_count": null,
   "metadata": {},
   "outputs": [],
   "source": [
    "# Verify Custom Loss\n",
    "# Example data: batch_size=4, N=5, nodes=3\n",
    "y_true = np.array([\n",
    "    [[0, 0.5, 0.7], [0, 0.2, -1], [0, 10000, -1000], [0, 0.3, 10], [0, 0.1, 10]],  # Sample 1\n",
    "    [[0, 0.6, 0.3], [1, 0.1, -1], [1, 0.3, 10], [0, 0.4, 10], [0, 0.7, 10]],  # Sample 2\n",
    "    [[0, 0.4, 1.5], [1, 0.8, -1], [1, 0.6, 10], [1, 0.2, 10], [0, 0.9, 10]],  # Sample 3\n",
    "    [[0, 0.5, 0.6], [0, 0.3, -1], [0, 0.7, 10], [1, 0.1, 10], [0, 0.8, 10]],  # Sample 4\n",
    "])\n",
    "\n",
    "y_pred = np.array([\n",
    "    [[0.9, 0.6, 0.8], [0.9, 0.3, 0.5], [0.5, 100000, 1000], [0.7, 0.4, 0.6], [0.2, 0.1, 0.3]],  # Sample 1\n",
    "    [[0.7, 0.5, 0.4], [0.9, 0.2, 0.3], [0.9, 0.4, 0.6], [0.6, 0.7, 0.9], [0.8, 0.7, 0.8]],  # Sample 2\n",
    "    [[0.8, 0.4, 0.5], [0.9, 0.6, 0.8], [0.9, 0.7, 0.5], [0.9, 0.3, 0.6], [0.2, 0.9, 0.7]],  # Sample 3\n",
    "    [[0.9, 0.4, 0.3], [0.9, 0.6, 0.8], [0.6, 0.9, 0.7], [0.9, 0.3, 0.5], [0.8, 0.7, 0.6]],  # Sample 4\n",
    "])\n",
    "\n",
    "# Convert to tensors\n",
    "y_true_tensor = tf.convert_to_tensor(y_true, dtype=tf.float32)\n",
    "y_pred_tensor = tf.convert_to_tensor(y_pred, dtype=tf.float32)\n",
    "\n",
    "loss_value = custom_loss(y_true_tensor, y_pred_tensor)\n",
    "print(\"Loss Value:\", loss_value.numpy())"
   ]
  },
  {
   "cell_type": "code",
   "execution_count": 56,
   "metadata": {},
   "outputs": [
    {
     "data": {
      "image/png": "[encoded data removed]",
      "text/plain": [
       "<Figure size 640x480 with 1 Axes>"
      ]
     },
     "metadata": {},
     "output_type": "display_data"
    }
   ],
   "source": [
    "# Plot a sample\n",
    "i = 1\n",
    "spectrum = X_train[i]\n",
    "f = rfftfreq(32768, 1/44100)[0:8192]\n",
    "\n",
    "labels = y_train[i, :, :]\n",
    "spread_peak_labels = labels[:, 0]\n",
    "indices = np.where(spread_peak_labels == 1)[0]\n",
    "# isolated_peaks = isolated_peaks_train[i]\n",
    "# indices = np.where(isolated_peaks == 1)[0]\n",
    "plt.scatter(f, spectrum, color='blue', s=1)\n",
    "plt.scatter(f[indices], spectrum[indices], color='red', s=1)\n",
    "plt.xlim(3000, 4000)\n",
    "plt.show()"
   ]
  },
  {
   "cell_type": "code",
   "execution_count": null,
   "metadata": {},
   "outputs": [],
   "source": [
    "# Verify peak_counting_error\n",
    "isolated_peaks_val=np.array(\n",
    "    [[0, 1, 0, 0, 1], \n",
    "     [1, 0, 1, 0, 0]]\n",
    "    )\n",
    "val_predictions=np.array(\n",
    "    [[0.81, 0.91, 0.71, 0.31, 0.91],\n",
    "     [0.81, 0.21, 0.91, 0.96, 0.91]]\n",
    "    )\n",
    "\n",
    "peak_counting_error(isolated_peaks_val, val_predictions)"
   ]
  },
  {
   "cell_type": "code",
   "execution_count": null,
   "metadata": {},
   "outputs": [],
   "source": [
    "# Figure out how many bins our peaks are\n",
    "f = rfftfreq(32768, 1/44100)\n",
    "# HWFM (in bins) of a peak with a HWHM of 100Hz\n",
    "bin_width = f[1] - f[0]\n",
    "print(f\"HWFM (in bins) of a peak with a HWHM of 100Hz: {200 / bin_width}\")\n",
    "print(f\"HWFM (in bins) of a peak with a HWHM of 10Hz: {20 / bin_width}\")\n",
    "print(f\"HWFM (in bins) of a peak with a HWHM of 3Hz: {6 / bin_width}\")"
   ]
  },
  {
   "cell_type": "code",
   "execution_count": null,
   "metadata": {},
   "outputs": [],
   "source": [
    "# def custom_loss(y_true, y_pred):\n",
    "#     \"\"\"\n",
    "#     Custom loss function for (batch_size, N, 3):\n",
    "#     - Binary cross-entropy for the first output node.\n",
    "#     - MSE for the second and third output nodes, masked by the first node's true labels.\n",
    "#     - Each bin in each sample is weighted by f(SNR), where SNR is the 3rd node label.\n",
    "    \n",
    "#     Args:\n",
    "#     y_true: Tensor of true labels, shape (batch_size, N, 3).\n",
    "#     y_pred: Tensor of predicted values, shape (batch_size, N, 3).\n",
    "    \n",
    "#     Returns:\n",
    "#     A scalar tensor representing the combined loss.\n",
    "#     \"\"\"\n",
    "\n",
    "    # # Mean squared error for the second and third nodes\n",
    "    # mse_loss_2 = tf.square(y_true[..., 1] - y_pred[..., 1])\n",
    "    # mse_loss_3 = tf.square(y_true[..., 2] - y_pred[..., 2])\n",
    "    # mse_loss = mse_loss_2 + mse_loss_3  # Shape (batch_size, N)\n",
    "\n",
    "    # # Mask the MSE loss where the first node's true label is 0\n",
    "    # mask = tf.cast(y_true[..., 0] > 0, tf.float32)  # Shape (batch_size, N)\n",
    "    # masked_mse_loss = mse_loss * mask  # Shape (batch_size, N)\n",
    "    \n",
    "    # # Manually calculate binary cross-entropy for the first node\n",
    "    # epsilon = 1e-7  # Small constant to prevent log(0)\n",
    "    # y_pred_clipped = tf.clip_by_value(y_pred[..., 0], epsilon, 1.0 - epsilon)\n",
    "    # bce_loss = -(y_true[..., 0] * tf.math.log(y_pred_clipped) + (1 - y_true[..., 0]) * tf.math.log(1 - y_pred_clipped))  # Shape (batch_size, N)\n",
    "\n",
    "    # # Weighting each bin by weight_func(SNR), where SNR is the 3rd node label\n",
    "    # snr = y_true[..., 2]  # SNR is the 3rd node label, shape (batch_size, N)\n",
    "    # weights = tf.where(snr < 0, tf.ones_like(snr), weight_func(snr))  # If SNR < 0, weight is 1 (fully weight the BCE loss for non-peak bins), else apply weight_func\n",
    "\n",
    "    # # Apply weights to the masked MSE loss\n",
    "    # weighted_mse_loss = masked_mse_loss * weights  # Shape (batch_size, N)\n",
    "    \n",
    "    # # Apply weights to the BCE loss\n",
    "    # weighted_bce_loss = bce_loss * weights  # Shape (batch_size, N)\n",
    "\n",
    "    # # Average weighted MSE, BCE losses across bins (N) for each sample\n",
    "    # mean_mse_loss_per_sample = tf.reduce_mean(weighted_mse_loss, axis=1)  # Mean over N for shape (batch_size,)\n",
    "    # mean_bce_loss_per_sample = tf.reduce_mean(weighted_bce_loss, axis=1)\n",
    "\n",
    "    # # Combine and average across the batch\n",
    "    # total_loss = tf.reduce_mean(mean_bce_loss_per_sample + mean_mse_loss_per_sample)  # Mean over batch size\n",
    "\n",
    "    # return total_loss\n",
    "\n",
    "\n",
    "\n",
    "\n",
    "# class ValidationMetricCallback(tf.keras.callbacks.Callback):\n",
    "#     def __init__(self, validation_data, metric_name=\"peak_counting_error\"):\n",
    "#         super(ValidationMetricCallback, self).__init__()\n",
    "#         self.validation_data = validation_data\n",
    "#         self.metric_name = metric_name\n",
    "\n",
    "#     def on_epoch_end(self, epoch, logs=None):\n",
    "#         val_x, (val_y, isolated_peaks_val) = self.validation_data  # Unpack extra labels\n",
    "#         val_predictions = self.model.predict(val_x, verbose=0)\n",
    "        \n",
    "#         # Compute your custom metric (e.g., Mean Absolute Error)\n",
    "#         val_metric = peak_counting_error(isolated_peaks_val, val_predictions)\n",
    "\n",
    "#         # Add the validation metric to logs\n",
    "#         logs[self.metric_name] = val_metric.numpy()\n",
    "\n",
    "#         print(f\"Epoch {epoch + 1}: {self.metric_name} = {val_metric.numpy()}\")\n",
    "\n",
    "\n",
    "# for row_idx in range(y_train.shape[0]):\n",
    "#     y_peak_labels = y_train[:, :, 0]\n",
    "#     if tf.reduce_any(y_peak_labels[row_idx] < 0):  # Check if any value in the row is negative\n",
    "#         print(f\"Row {row_idx} contains negative values:\")\n",
    "#         print(y_peak_labels[row_idx])\n",
    "\n",
    "\n",
    "\n",
    "    # # Check for any negative values or values greater than 1 in y_true\n",
    "    # has_negative_y_true = tf.reduce_any(y_true < 0)\n",
    "    # has_greater_one_y_true = tf.reduce_any(y_true > 1)\n",
    "    \n",
    "    # # Check for any negative values in y_pred\n",
    "    # has_negative_y_pred = tf.reduce_any(y_pred < 0)\n",
    "    \n",
    "    # # Use tf.debugging.assert_* to enforce conditions during graph execution\n",
    "    # tf.debugging.assert_equal(\n",
    "    #     has_negative_y_true, False, message=\"y_true contains negative values.\"\n",
    "    # )\n",
    "    # tf.debugging.assert_equal(\n",
    "    #     has_greater_one_y_true, False, message=\"y_true contains values greater than 1.\"\n",
    "    # )\n",
    "    # tf.debugging.assert_equal(\n",
    "    #     has_negative_y_pred, False, message=\"y_pred contains negative values.\"\n",
    "\n",
    "\n",
    "    # # Manually calculate binary cross-entropy for the first node\n",
    "    # epsilon = 1e-7  # Small constant to prevent log(0)\n",
    "    # y_pred_clipped = tf.clip_by_value(y_pred[..., 0], epsilon, 1.0 - epsilon)\n",
    "    # bce_loss = -(y_true[..., 0] * tf.math.log(y_pred_clipped) + (1 - y_true[..., 0]) * tf.math.log(1 - y_pred_clipped))  # Shape (batch_size, N)\n",
    "\n",
    "    # # Weighting each bin by weight_func(prom), where prominence is the 3rd node label\n",
    "    # prom = y_true[..., 2]  # prom is the 3rd node label, shape (batch_size, N)\n",
    "    # weights = tf.where(prom < 0, tf.ones_like(prom), weight_func(snr))  # If prom < 0, weight is 1 (fully weight the BCE loss for non-peak bins), else apply weight_func\n",
    "    \n"
   ]
  },
  {
   "cell_type": "code",
   "execution_count": 32,
   "metadata": {},
   "outputs": [
    {
     "name": "stdout",
     "output_type": "stream",
     "text": [
      "Element-wise BCE Loss: [[0.105360404 0.105360404 0.223143399 0.35667479]\n",
      " [0.223143399 0.35667479 0.35667479 0.105360404]]\n"
     ]
    }
   ],
   "source": [
    "import tensorflow as tf\n",
    "\n",
    "# Example data\n",
    "batch_size = 2\n",
    "bins_per_sample = 4\n",
    "\n",
    "y_true = tf.constant([[1, 0, 1, 0], [0, 1, 0, 1]], dtype=tf.float32)  # Shape (batch_size, bins_per_sample)\n",
    "y_pred = tf.constant([[0.9, 0.1, 0.8, 0.3], [0.2, 0.7, 0.3, 0.9]], dtype=tf.float32)  # Shape (batch_size, bins_per_sample)\n",
    "\n",
    "# Compute element-wise binary cross-entropy\n",
    "bce_loss = tf.keras.backend.binary_crossentropy(y_true, y_pred)  # Shape (batch_size, bins_per_sample)\n",
    "\n",
    "# Print the result\n",
    "tf.print(\"Element-wise BCE Loss:\", bce_loss)\n"
   ]
  },
  {
   "cell_type": "code",
   "execution_count": null,
   "metadata": {},
   "outputs": [],
   "source": []
  }
 ],
 "metadata": {
  "kernelspec": {
   "display_name": "jupyter [/fs/ess/PAS2038/PHYSICS_5680_OSU/jupyter/]",
   "language": "python",
   "name": "venv_jupyter"
  },
  "language_info": {
   "codemirror_mode": {
    "name": "ipython",
    "version": 3
   },
   "file_extension": ".py",
   "mimetype": "text/x-python",
   "name": "python",
   "nbconvert_exporter": "python",
   "pygments_lexer": "ipython3",
   "version": "3.9.12"
  }
 },
 "nbformat": 4,
 "nbformat_minor": 4
}
