{
 "cells": [
  {
   "cell_type": "code",
   "execution_count": null,
   "metadata": {},
   "outputs": [],
   "source": [
    "import numpy as np\n",
    "from plots import *\n",
    "import matplotlib.pyplot as plt\n",
    "import pandas as pd\n",
    "from pathlib import Path"
   ]
  },
  {
   "cell_type": "code",
   "execution_count": null,
   "metadata": {},
   "outputs": [],
   "source": [
    "# Load all the separate dataframes and concatenate\n",
    "dfs = []\n",
    "for name in [\"Pre-2014 Data\", \"Curated Data\", \"Extra Owl\", \"Lots of Data\"]\n",
    "# for name in [\"Pre-2014 Data\", \"Curated Data\", \"Extra Owl\", \"Lots of Data\", \"York Data\", \"UWO Data\"]:\n",
    "    print(f\"Loading {name}\")\n",
    "    df0 = pd.read_parquet(f\"\\\\Data\\\\{name}.parquet\")\n",
    "    dfs.append(df0)\n",
    "    \n",
    "print(\"Combining into one Dataframe!\")\n",
    "df = pd.concat(dfs)"
   ]
  },
  {
   "cell_type": "code",
   "execution_count": null,
   "metadata": {},
   "outputs": [],
   "source": [
    "# Get number of each species and plot in a pie chart\n",
    "species_counts = df['species'].value_counts()\n",
    "plt.figure(figsize=(8, 8))\n",
    "plt.pie(species_counts, labels=species_counts.index, autopct='%1.1f%%')\n",
    "plt.title('Species Distribution')\n",
    "plt.show()"
   ]
  },
  {
   "cell_type": "code",
   "execution_count": null,
   "metadata": {},
   "outputs": [],
   "source": [
    "# Get how many are pre-processed\n",
    "num_preprocessed = (df['sr'] == 0).sum()\n",
    "num_wf = len(df) - num_preprocessed\n",
    "\n",
    "# Create the pie chart\n",
    "plt.figure(figsize=(8, 8))\n",
    "plt.pie([num_preprocessed, num_wf], labels=['Pre-processed Spectra', 'Raw Waveforms'], autopct='%1.1f%%')\n",
    "plt.title('Distribution of Pre-processed Spectra and Raw Waveforms')\n",
    "plt.show()"
   ]
  },
  {
   "cell_type": "code",
   "execution_count": null,
   "metadata": {},
   "outputs": [],
   "source": [
    "# Out of the preprocessed ones, get a histogram of the number of frequency bins\n",
    "freq_lengths = df[df['sr'] == 0]['freqs'].apply(len)\n",
    "freq_lengths.hist()\n",
    "plt.title('Histogram of Freqs Lengths for Pre-processed Spectra')\n",
    "plt.xlabel('Length')\n",
    "plt.ylabel('Frequency')\n",
    "plt.show()"
   ]
  },
  {
   "cell_type": "code",
   "execution_count": null,
   "metadata": {},
   "outputs": [],
   "source": [
    "# Out of the preprocessed ones, get a histogram of the maximum frequency bin value\n",
    "max_freqs = df[df['sr'] == 0]['freqs'].apply(lambda x: x[-1])\n",
    "max_freqs.hist()\n",
    "plt.title('Histogram of Final Frequency Bin where SR=0')\n",
    "plt.xlabel('Max Freq')\n",
    "plt.ylabel('Frequency')\n",
    "plt.show()"
   ]
  },
  {
   "cell_type": "code",
   "execution_count": null,
   "metadata": {},
   "outputs": [],
   "source": [
    "# Out of the preprocessed ones, get a histogram of the spacing between frequency bins\n",
    "freq_diffs = df[df['sr'] == 0]['freqs'].apply(lambda x: x[1] - x[0])\n",
    "freq_diffs.hist()\n",
    "plt.title('Histogram of Freq Diffs where SR=0')\n",
    "plt.xlabel('Freq Diff')\n",
    "plt.ylabel('Frequency')\n",
    "plt.show()"
   ]
  }
 ],
 "metadata": {
  "kernelspec": {
   "display_name": "base",
   "language": "python",
   "name": "python3"
  },
  "language_info": {
   "codemirror_mode": {
    "name": "ipython",
    "version": 3
   },
   "file_extension": ".py",
   "mimetype": "text/x-python",
   "name": "python",
   "nbconvert_exporter": "python",
   "pygments_lexer": "ipython3",
   "version": "3.10.15"
  }
 },
 "nbformat": 4,
 "nbformat_minor": 2
}
